{
  "cells": [
    {
      "cell_type": "markdown",
      "metadata": {
        "id": "view-in-github",
        "colab_type": "text"
      },
      "source": [
        "<a href=\"https://colab.research.google.com/github/qianxi5/50.040-NLP/blob/main/new_mini_project.ipynb\" target=\"_parent\"><img src=\"https://colab.research.google.com/assets/colab-badge.svg\" alt=\"Open In Colab\"/></a>"
      ]
    },
    {
      "cell_type": "markdown",
      "metadata": {
        "id": "pf_8OI34CdXU"
      },
      "source": [
        "<img src=\"images/sutd.png\" alt=\"drawing\" style=\"width:300px;\"/>\n",
        "\n",
        "## <center>50.040 Natural Language Processing, Summer 2021<center>\n",
        "    \n",
        "<center>**Due 17 June 2021, 5pm** <center>\n",
        "Mini Project"
      ]
    },
    {
      "cell_type": "markdown",
      "metadata": {
        "id": "YAN5MA5GCdXU"
      },
      "source": [
        "**Write your student ID and name**\n",
        "\n",
        "\n",
        "### STUDNET ID: 1004533\n",
        "\n",
        "### Name: Lu Qianxi\n",
        "\n",
        "### Students with whom you have discussed (if any): Wang Han"
      ]
    },
    {
      "cell_type": "markdown",
      "metadata": {
        "id": "V0iF5uWcCdXV"
      },
      "source": [
        "# Introduction\n",
        "\n",
        "Language models are very useful for a wide range of applications, e.g., speech recognition and machine translation. Consider a sentence consisting of words $x_1, x_2, …, x_m$, where $m$ is the length of the sentence, the goal of language modeling is to model the probability of the sentence, where $m \\geq 1$, $x_i \\in V $ and $V$ is the vocabulary of the corpus:\n",
        "$$p(x_1, x_2, …, x_m)$$\n",
        "In this project, we are going to explore both statistical language model and neural language model on the [Wikitext-2](https://blog.einstein.ai/the-wikitext-long-term-dependency-language-modeling-dataset/) datasets. Download wikitext-2 word-level data and put it under the ``data`` folder.\n",
        "\n",
        "## Statistical  Language Model\n",
        "\n",
        "A simple way is to view words as independent random variables (i.e., zero-th order Markovian assumption). The joint probability can be written as:\n",
        "$$p(x_1, x_2, …, x_m)=\\prod_{i=1}^m p(x_i)$$\n",
        "However, this model ignores the word order information, to account for which, under the first-order Markovian assumption, the joint probability can be written as:\n",
        "$$p(x_0, x_1, x_2, …, x_{m})= \\prod_{i=1}^{m}p(x_i \\mid x_{i-1})$$\n",
        "Under the second-order Markovian assumption, the joint probability can be written as:\n",
        "$$p(x_{-1}, x_0, x_1, x_2, …, x_{m})= \\prod_{i=1}^{m}p(x_i \\mid x_{i-2}, x_{i-1})$$\n",
        "Similar to what we did in HMM, we will assume that $x_{-1}=START, x_0=START, x_{m} = STOP$ in this definition, where $START, STOP$ are special symbols referring to the start and the end of a sentence.\n",
        "\n",
        "\n",
        "\n",
        "\n",
        "\n"
      ]
    },
    {
      "cell_type": "markdown",
      "metadata": {
        "id": "F5wC4lqKCdXW"
      },
      "source": [
        "### Parameter estimation\n",
        "\n",
        "Let's use $count(u)$ to denote the number of times the unigram $u$ appears in the corpus, use $count(v, u)$ to denote the number of times the bigram $v, u$ appears in the corpus, and $count(w, v, u)$ the times the trigram $w, v, u$ appears in the corpus, $u \\in V \\cup STOP$ and $w, v \\in V \\cup START$.\n",
        "\n",
        "And the parameters of the unigram, bigram and trigram models can be obtained using maximum likelihood estimation (MLE).\n",
        "\n",
        "- In the unigram model, the parameters can be estimated as: $$p(u) = \\frac {count(u)}{c}$$, where $c$ is the total number of words in the corpus.\n",
        "- In the bigram model, the parameters can be estimated as:\n",
        "$$p(u \\mid v) = \\frac{count(v, u)}{count(v)}$$\n",
        "- In the trigram model, the parameters can be estimated as:\n",
        "$$p(u \\mid w, v) = \\frac{count(w, v, u)}{count(w, v)}$$\n",
        "\n",
        "\n"
      ]
    },
    {
      "cell_type": "markdown",
      "metadata": {
        "id": "C7dks8t0CdXW"
      },
      "source": [
        "### Smoothing the parameters\n",
        "#### Add-k Smoothing\n",
        "Note, it is likely that many parameters of bigram and trigram models will be 0 because the relevant bigrams and trigrams involved do not appear in the corpus. If you don't have a way to handle these 0 probabilities, all the sentences that include such bigrams or trigrams will have probabilities of 0.\n",
        "\n",
        "We'll use a Add-k Smoothing method to fix this problem, the smoothed parameters can be estimated as:\n",
        "\\begin{equation}\n",
        "p_{add-k}(u)= \\frac{count(u)+k}{c+k|V^*|}\n",
        "\\end{equation}\n",
        "\\begin{equation}\n",
        "p_{add-k}(u \\mid v)= \\frac{count(v, u)+k}{count(v)+k|V^*|}\n",
        "\\end{equation}\n",
        "\\begin{equation}\n",
        "p_{add-k}(u \\mid w, v)= \\frac{count(w, v, u)+k}{count(w, v)+k|V^*|}\n",
        "\\end{equation}\n",
        "\n",
        "where $k \\in (0, 1)$ is the parameter of this approach, and $|V^*|$ is the size of the vocabulary $V^*$, here $V^*= V \\cup STOP$. One way to choose the value of $k$ is by\n",
        "optimizing the perplexity of the development set, namely to choose the value that minimizes the perplexity.\n",
        "#### Interpolation\n",
        "There is another way for smoothing which is named as **interpolation**. In interpolation, we always mix the probability estimates from\n",
        "all the n-gram estimators, weighing and combining the trigram, bigram, and unigram counts. In simple linear interpolation, we combine different order n-grams by linearly interpolating all the models. Thus, we estimate the trigram probability $p(w_n|w_{n-2},w_{n-1})$ by mixing together the unigram, bigram, and trigram probabilities, each weighted by a $\\lambda$:\n",
        "\\begin{align}\n",
        "\\hat{p}(w_n|w_{n-2},w_{n-1}) = \\lambda_1p(w_n|w_{n-2},w_{n-1})+\\lambda_2p(w_n|w_{n-1})+\\lambda_3p(w_n)\n",
        "\\end{align}\n",
        "such that the $\\lambda$s sum to 1:\n",
        "\\begin{align}\n",
        "\\sum_i\\lambda_i=1\n",
        "\\end{align}\n",
        "In addition, $\\lambda_1,\\lambda_2,\\lambda_3\\geq 0$."
      ]
    },
    {
      "cell_type": "markdown",
      "metadata": {
        "id": "SNVha_8UCdXX"
      },
      "source": [
        "### Perplexity\n",
        "\n",
        "Given a test set $D^{\\prime}$ consisting of sentences $X^{(1)}, X^{(2)}, …, X^{(|D^{\\prime}|)}$, each sentence $X^{(j)}$ consists of words $x_1^{(j)}, x_2^{(j)},…,x_{n_j}^{(j)}$, we can measure the probability of each sentence $X^{(j)}$, and the quality of the language model would be the probability it assigns to the entire set of test sentences, namely:\n",
        "\\begin{equation} \n",
        "\\prod_{j=1}^{|D^{\\prime}|}p(X^{(j)})\n",
        "\\end{equation}\n",
        "Let's define average $log_2$ probability as:\n",
        "\\begin{equation} \n",
        "l=\\frac{1}{c^{\\prime}}\\sum_{j=1}^{|D^{\\prime}|}log_2p(X^{(j)})\n",
        "\\end{equation}\n",
        "$c^{\\prime}$ is the total number of words in the test set, $|D^{\\prime}|$ is the number of sentences. And the perplexity is defined as:\n",
        "\\begin{equation} \n",
        "perplexity=2^{-l}\n",
        "\\end{equation}\n",
        "\n",
        "The lower the perplexity, the better the language model."
      ]
    },
    {
      "cell_type": "code",
      "source": [
        "!git clone https://github.com/qianxi5/50.040-NLP.git"
      ],
      "metadata": {
        "colab": {
          "base_uri": "https://localhost:8080/"
        },
        "id": "TMuFf4SupiZt",
        "outputId": "27babe04-b39a-4a02-9bf0-e388ed226ccc"
      },
      "execution_count": 1,
      "outputs": [
        {
          "output_type": "stream",
          "name": "stdout",
          "text": [
            "fatal: destination path '50.040-NLP' already exists and is not an empty directory.\n"
          ]
        }
      ]
    },
    {
      "cell_type": "code",
      "execution_count": 2,
      "metadata": {
        "id": "EC2GuVm0TbcJ"
      },
      "outputs": [],
      "source": [
        "from collections import Counter, namedtuple\n",
        "import itertools\n",
        "import numpy as np"
      ]
    },
    {
      "cell_type": "code",
      "execution_count": 3,
      "metadata": {
        "id": "IJUJhyKYTbcK"
      },
      "outputs": [],
      "source": [
        "with open('50.040-NLP/data/wikitext-2/wiki.train.tokens', 'r', encoding='utf8') as f:\n",
        "    text = f.readlines()\n",
        "    train_sents = [line.lower().strip('\\n').split() for line in text]\n",
        "    train_sents = [s for s in train_sents if len(s)>0 and s[0] != '=']"
      ]
    },
    {
      "cell_type": "code",
      "execution_count": 4,
      "metadata": {
        "id": "lS4DaaRiTbcL",
        "colab": {
          "base_uri": "https://localhost:8080/"
        },
        "outputId": "8533c658-91cd-4bef-e426-c727b941d8f9"
      },
      "outputs": [
        {
          "output_type": "stream",
          "name": "stdout",
          "text": [
            "['the', 'game', 'began', 'development', 'in', '2010', ',', 'carrying', 'over', 'a', 'large', 'portion', 'of', 'the', 'work', 'done', 'on', 'valkyria', 'chronicles', 'ii', '.', 'while', 'it', 'retained', 'the', 'standard', 'features', 'of', 'the', 'series', ',', 'it', 'also', 'underwent', 'multiple', 'adjustments', ',', 'such', 'as', 'making', 'the', 'game', 'more', '<unk>', 'for', 'series', 'newcomers', '.', 'character', 'designer', '<unk>', 'honjou', 'and', 'composer', 'hitoshi', 'sakimoto', 'both', 'returned', 'from', 'previous', 'entries', ',', 'along', 'with', 'valkyria', 'chronicles', 'ii', 'director', 'takeshi', 'ozawa', '.', 'a', 'large', 'team', 'of', 'writers', 'handled', 'the', 'script', '.', 'the', 'game', \"'s\", 'opening', 'theme', 'was', 'sung', 'by', 'may', \"'n\", '.']\n"
          ]
        }
      ],
      "source": [
        "print(train_sents[1])"
      ]
    },
    {
      "cell_type": "markdown",
      "metadata": {
        "id": "G0vxL-WpCdXX"
      },
      "source": [
        "### Question 1 [code]\n",
        "1. Implement the function **\"compute_ngram\"** that computes n-grams in the corpus.\n",
        " (Do not take the START and STOP symbols into consideration for now.) \n",
        "2. List 10 most frequent unigrams, bigrams and trigrams as well as their counts.(Hint: use the built-in function .most_common in Counter class)"
      ]
    },
    {
      "cell_type": "code",
      "execution_count": 5,
      "metadata": {
        "id": "TOyoT-QiCdXY"
      },
      "outputs": [],
      "source": [
        "def compute_ngram(sents, n):\n",
        "    '''\n",
        "    Compute n-grams that appear in \"sents\".\n",
        "    param:\n",
        "        sents: list[list[str]] --- list of list of word strings\n",
        "        n: int --- \"n\" gram\n",
        "    return:\n",
        "        ngram_set: set{str} --- a set of n-grams (no duplicate elements)\n",
        "        ngram_dict: dict{ngram: counts} --- a dictionary that maps each ngram to its number occurence in \"sents\";\n",
        "        This dict contains the parameters of our ngram model. E.g. if n=2, ngram_dict={('a','b'):10, ('b','c'):13}\n",
        "        \n",
        "        You may need to use \"Counter\", \"tuple\" function here.\n",
        "    '''\n",
        "    ngram_set =  None\n",
        "    ngram_dict = None\n",
        "    ### YOUR CODE HERE\n",
        "    ngram_set = set()\n",
        "    ngram_dict = dict()\n",
        "    for sent in sents:\n",
        "        for idx in range(len(sent)-n+1):\n",
        "            ngram = tuple(sent[idx: idx+n])\n",
        "            ngram_set.add(ngram)\n",
        "            ngram_dict[ngram] = ngram_dict.get(ngram, 0) + 1\n",
        "    # ngram_dict = Counter(ngram_set)\n",
        "\n",
        "    ### END OF YOUR CODE\n",
        "    return ngram_set, ngram_dict"
      ]
    },
    {
      "cell_type": "code",
      "execution_count": 6,
      "metadata": {
        "id": "49flqH_GTbcP",
        "colab": {
          "base_uri": "https://localhost:8080/"
        },
        "outputId": "ddef5417-cb5b-4503-8a81-9fffdc18206a"
      },
      "outputs": [
        {
          "output_type": "stream",
          "name": "stdout",
          "text": [
            "unigram: 28910\n",
            "bigram: 577343\n",
            "trigram: 1344047\n"
          ]
        }
      ],
      "source": [
        "unigram_set, unigram_dict = compute_ngram(train_sents, 1)\n",
        "print('unigram: %d' %(len(unigram_set)))\n",
        "bigram_set, bigram_dict = compute_ngram(train_sents, 2)\n",
        "print('bigram: %d' %(len(bigram_set)))\n",
        "trigram_set, trigram_dict = compute_ngram(train_sents, 3)\n",
        "print('trigram: %d' %(len(trigram_set)))"
      ]
    },
    {
      "cell_type": "code",
      "execution_count": 7,
      "metadata": {
        "id": "YhAVm94DTbcP",
        "colab": {
          "base_uri": "https://localhost:8080/"
        },
        "outputId": "d0ada044-667a-48a6-8886-36c04538e9c3"
      },
      "outputs": [
        {
          "output_type": "stream",
          "name": "stdout",
          "text": [
            "Top 10 unigrams:  [(('the',), 130519), ((',',), 99763), (('.',), 73388), (('of',), 56743), (('<unk>',), 53951), (('and',), 49940), (('in',), 44876), (('to',), 39462), (('a',), 36140), (('\"',), 28285)]\n",
            "Top 10 bigrams:  [(('of', 'the'), 17242), (('in', 'the'), 11778), ((',', 'and'), 11643), (('.', 'the'), 11274), ((',', 'the'), 8024), (('<unk>', ','), 7698), (('to', 'the'), 6009), (('on', 'the'), 4495), (('the', '<unk>'), 4389), (('and', 'the'), 4331)]\n",
            "Top 10 tigrams:  [((',', 'and', 'the'), 1393), ((',', '<unk>', ','), 950), (('<unk>', ',', '<unk>'), 901), (('one', 'of', 'the'), 866), (('<unk>', ',', 'and'), 819), (('.', 'however', ','), 775), (('<unk>', '<unk>', ','), 745), (('.', 'in', 'the'), 726), (('.', 'it', 'was'), 698), (('the', 'united', 'states'), 666)]\n"
          ]
        }
      ],
      "source": [
        "# List 10 most frequent unigrams, bigrams and trigrams as well as their counts.\n",
        "### YOUR CODE HERE\n",
        "from collections import Counter\n",
        "uni_counter = Counter(unigram_dict)\n",
        "bi_counter = Counter(bigram_dict)\n",
        "tri_counter = Counter(trigram_dict)\n",
        "print(\"Top 10 unigrams: \",uni_counter.most_common(10))\n",
        "print(\"Top 10 bigrams: \",bi_counter.most_common(10))\n",
        "print(\"Top 10 tigrams: \",tri_counter.most_common(10))\n",
        "### END OF YOUR CODE"
      ]
    },
    {
      "cell_type": "markdown",
      "metadata": {
        "id": "PVpoDgU7CdXb"
      },
      "source": [
        "### Question 2 [code]\n",
        "In this part, we take the START and STOP symbols into consideration. So we need to pad the **train_sents** as described in \"Statistical Language Model\" before we apply \"compute_ngram\" function. For example, given a sentence \"I like NLP\", in a bigram model, we need to pad it as \"START I like NLP STOP\", in a trigram model, we need to pad it as \"START START I like NLP STOP\". For unigram model, it should be paded as \"I like NLP STOP\".\n",
        "\n",
        "1. Implement the ``pad_sents`` function.\n",
        "2. Pad ``train_sents``.\n",
        "3. Apply ``compute_ngram`` function to these padded sents.\n",
        "4. Implement ``ngram_prob`` function. Compute the probability for each n-gram in the variable **ngrams** according equations in **\"Parameter estimation\"**. List down the n-grams that have 0 probability. \n",
        "\n"
      ]
    },
    {
      "cell_type": "code",
      "execution_count": 8,
      "metadata": {
        "id": "aLc1yxwMTbcR",
        "colab": {
          "base_uri": "https://localhost:8080/"
        },
        "outputId": "eab83e60-ed36-40c3-a9a4-a2a7780ed561"
      },
      "outputs": [
        {
          "output_type": "stream",
          "name": "stdout",
          "text": [
            "[['the', 'computer'], ['go', 'to'], ['have', 'had'], ['and', 'the'], ['can', 'sea'], ['a', 'number', 'of'], ['with', 'respect', 'to'], ['in', 'terms', 'of'], ['not', 'good', 'bad'], ['first', 'start', 'with']]\n"
          ]
        }
      ],
      "source": [
        "###############################################\n",
        "ngrams = list()\n",
        "with open('50.040-NLP/data/ngram.txt','r') as f:\n",
        "    for line in f:\n",
        "        ngrams.append(line.strip('\\n').split())\n",
        "print(ngrams)\n",
        "###############################################"
      ]
    },
    {
      "cell_type": "code",
      "execution_count": 9,
      "metadata": {
        "id": "FtxPmGMDTbcR"
      },
      "outputs": [],
      "source": [
        "START = '<START>'\n",
        "STOP = '<STOP>'\n",
        "###################################\n",
        "def pad_sents(sents, n):\n",
        "    '''\n",
        "    Pad the sents according to n.\n",
        "    params:\n",
        "        sents: list[list[str]] --- list of sentences.\n",
        "        n: int --- specify the padding type, 1-gram, 2-gram, or 3-gram.\n",
        "    return:\n",
        "        padded_sents: list[list[str]] --- list of padded sentences.\n",
        "    '''\n",
        "    padded_sents = None\n",
        "    ### YOUR CODE HERE\n",
        "    padded_sents = list()\n",
        "    for sent in sents:\n",
        "        pad_sent = sent.copy()\n",
        "        pad_sent.append(STOP)\n",
        "        if n == 2:\n",
        "            pad_sent.insert(0, START)\n",
        "        elif n == 3:\n",
        "            pad_sent.insert(0, START)\n",
        "            pad_sent.insert(0, START)\n",
        "        padded_sents.append(pad_sent)\n",
        "\n",
        "    ### END OF YOUR CODE\n",
        "    return padded_sents"
      ]
    },
    {
      "cell_type": "code",
      "execution_count": 10,
      "metadata": {
        "id": "ieHBdvLoTbcS"
      },
      "outputs": [],
      "source": [
        "uni_sents = pad_sents(train_sents, 1)\n",
        "bi_sents = pad_sents(train_sents, 2)\n",
        "tri_sents = pad_sents(train_sents, 3)"
      ]
    },
    {
      "cell_type": "code",
      "execution_count": 11,
      "metadata": {
        "id": "cc150fcYTbcT"
      },
      "outputs": [],
      "source": [
        "unigram_set, unigram_dict = compute_ngram(uni_sents, 1)\n",
        "bigram_set, bigram_dict = compute_ngram(bi_sents, 2)\n",
        "trigram_set, trigram_dict = compute_ngram(tri_sents, 3)"
      ]
    },
    {
      "cell_type": "code",
      "execution_count": 12,
      "metadata": {
        "id": "ma3LejtgTbcT",
        "colab": {
          "base_uri": "https://localhost:8080/"
        },
        "outputId": "d5fe8006-e4e7-4950-9c2e-2aa0a7ff7ac3"
      },
      "outputs": [
        {
          "output_type": "execute_result",
          "data": {
            "text/plain": [
              "(28911, 580825, 1363266)"
            ]
          },
          "metadata": {},
          "execution_count": 12
        }
      ],
      "source": [
        "len(unigram_set),len(bigram_set),len(trigram_set)"
      ]
    },
    {
      "cell_type": "code",
      "execution_count": 13,
      "metadata": {
        "id": "Nv53LTZLTbcT",
        "colab": {
          "base_uri": "https://localhost:8080/"
        },
        "outputId": "821c2215-35b0-4c20-f996-4162ab396832"
      },
      "outputs": [
        {
          "output_type": "stream",
          "name": "stdout",
          "text": [
            "2024702\n"
          ]
        }
      ],
      "source": [
        "num_words = sum([v for _,v in unigram_dict.items()])\n",
        "print(num_words)"
      ]
    },
    {
      "cell_type": "code",
      "execution_count": 14,
      "metadata": {
        "id": "Jn4XCovBTbcT"
      },
      "outputs": [],
      "source": [
        "def ngram_prob(ngram, num_words, unigram_dic, bigram_dic, trigram_dic):\n",
        "    '''\n",
        "    params:\n",
        "        ngram: list[str] --- a list that represents n-gram\n",
        "        num_words: int --- total number of words\n",
        "        unigram_dic: dict{ngram: counts} --- a dictionary that maps each 1-gram to its number of occurences in \"sents\";\n",
        "        bigram_dic: dict{ngram: counts} --- a dictionary that maps each 2-gram to its number of occurence in \"sents\";\n",
        "        trigram_dic: dict{ngram: counts} --- a dictionary that maps each 3-gram to its number occurence in \"sents\";\n",
        "    return:\n",
        "        prob: float --- probability of the \"ngram\"\n",
        "    '''\n",
        "    prob = None\n",
        "    ### YOUR CODE HERE\n",
        "    if len(ngram) == 1:\n",
        "        prob = unigram_dic.get(tuple(ngram),0) / num_words\n",
        "    elif len(ngram) == 2:\n",
        "        if unigram_dic.get((ngram[0],),0) != 0:\n",
        "            prob = bigram_dic.get(tuple(ngram), 0)/ unigram_dic.get((ngram[0],),0)\n",
        "        else: prob = 0\n",
        "    elif len(ngram) == 3:\n",
        "        if bigram_dic.get(tuple(ngram[:2]),0) != 0:\n",
        "            prob = trigram_dic.get(tuple(ngram), 0) / bigram_dic.get(tuple(ngram[:2]),0)\n",
        "        else: prob = 0\n",
        "    ### END OF YOUR CODE\n",
        "    return prob"
      ]
    },
    {
      "cell_type": "code",
      "execution_count": 15,
      "metadata": {
        "id": "DKqLEXTjTbcU",
        "colab": {
          "base_uri": "https://localhost:8080/"
        },
        "outputId": "03d87cac-ce19-45d5-efd4-0c0afa752b98"
      },
      "outputs": [
        {
          "output_type": "execute_result",
          "data": {
            "text/plain": [
              "9.960235674499498e-05"
            ]
          },
          "metadata": {},
          "execution_count": 15
        }
      ],
      "source": [
        "ngram_prob(ngrams[0], num_words,unigram_dict, bigram_dict, trigram_dict)"
      ]
    },
    {
      "cell_type": "code",
      "execution_count": 16,
      "metadata": {
        "id": "_XRcx4fYTbcU",
        "colab": {
          "base_uri": "https://localhost:8080/"
        },
        "outputId": "b6d9e087-23e0-4540-c94e-7f693cacca5a"
      },
      "outputs": [
        {
          "output_type": "stream",
          "name": "stdout",
          "text": [
            "['can', 'sea']\n",
            "['not', 'good', 'bad']\n",
            "['first', 'start', 'with']\n"
          ]
        }
      ],
      "source": [
        "### List down the n-grams that have 0 probability. \n",
        "### YOUR CODE HERE\n",
        "for ngram in ngrams:\n",
        "    if ngram_prob(ngram,num_words,unigram_dict, bigram_dict, trigram_dict ) == 0:\n",
        "        print(ngram)\n",
        "### END OF YOUR CODE"
      ]
    },
    {
      "cell_type": "markdown",
      "metadata": {
        "id": "2kAezpJ9CdXd"
      },
      "source": [
        "### Question 3 [code]\n",
        "\n",
        "1. Implement ``add_k_smoothing_ngram`` function to estimate ngram probability with ``add-k`` smoothing technique.\n",
        "2. Implement ``interpolation_ngram`` function to estimate ngram probability with ``interpolation`` smoothing technique.\n",
        "3. Implement ``perplexity`` function to compute the perplexity of the corpus \"**valid_sents**\" according to \"**Perplexity**\" section. The computation of $p(X^{(j)})$ depends on the n-gram model you choose."
      ]
    },
    {
      "cell_type": "code",
      "execution_count": 17,
      "metadata": {
        "id": "i7dzseTKTbcV"
      },
      "outputs": [],
      "source": [
        "with open('50.040-NLP/data/wikitext-2/wiki.valid.tokens', 'r', encoding='utf8') as f:\n",
        "    text = f.readlines()\n",
        "    valid_sents = [line.lower().strip('\\n').split() for line in text]\n",
        "    valid_sents = [s for s in valid_sents if len(s)>0 and s[0] != '=']\n",
        "\n",
        "uni_valid_sents = pad_sents(valid_sents, 1)\n",
        "bi_valid_sents = pad_sents(valid_sents, 2)\n",
        "tri_valid_sents = pad_sents(valid_sents, 3)"
      ]
    },
    {
      "cell_type": "code",
      "execution_count": 134,
      "metadata": {
        "id": "vrgRsyBkTbcW"
      },
      "outputs": [],
      "source": [
        "def add_k_smoothing_ngram(ngram, k, num_words, unigram_dic, bigram_dic, trigram_dic):\n",
        "    '''\n",
        "    params:\n",
        "        ngram: list[str] --- a list that represents n-gram\n",
        "        k: float \n",
        "        num_words: int --- total number of words\n",
        "        unigram_dic: dict{ngram: counts} --- a dictionary that maps each 1-gram to its number of occurences in \"sents\";\n",
        "        bigram_dic: dict{ngram: counts} --- a dictionary that maps each 2-gram to its number of occurence in \"sents\";\n",
        "        trigram_dic: dict{ngram: counts} --- a dictionary that maps each 3-gram to its number occurence in \"sents\";\n",
        "    return:\n",
        "        s_prob: float --- probability of the \"ngram\"\n",
        "    '''\n",
        "    s_prob = None\n",
        "    V = len(unigram_dic)\n",
        "    ### YOUR CODE HERE\n",
        "    if len(ngram) == 1:\n",
        "        s_prob = (unigram_dic.get(ngram,0) + k) / (num_words + k*V)\n",
        "    elif len(ngram) == 2:\n",
        "        s_prob = (bigram_dic.get(tuple(ngram), 0)+k)/ (unigram_dic.get((ngram[0],),0)+k*V)\n",
        "    elif len(ngram) == 3:\n",
        "        # print(bigram_dic.get(tuple(ngram[:2]),0))\n",
        "        s_prob = (trigram_dic.get(tuple(ngram), 0)+k) / (bigram_dic.get(tuple(ngram[:2]),0)+k*V)\n",
        "\n",
        "    ### END OF YOUR CODE\n",
        "    return s_prob"
      ]
    },
    {
      "cell_type": "code",
      "execution_count": 135,
      "metadata": {
        "id": "YyvmJ95jTbcW"
      },
      "outputs": [],
      "source": [
        "def interpolation_ngram(ngram, lam, num_words, unigram_dic, bigram_dic, trigram_dic):\n",
        "    '''\n",
        "    params:\n",
        "        ngram: list[str] --- a list that represents n-gram\n",
        "        lam: list[float] --- a list of length 3.lam[0], lam[1] and lam[2] are correspondence to trigram, bigram and unigram,repectively.\n",
        "                             If len(ngram) == 1, lam[0]=lam[1]=0, lam[2]=1. If len(ngram) == 2, lam[0]=0. lam[0]+lam[1]+lam[2] = 1.\n",
        "        num_words: int --- total number of words\n",
        "        unigram_dic: dict{ngram: counts} --- a dictionary that maps each 1-gram to its number of occurences in \"sents\";\n",
        "        bigram_dic: dict{ngram: counts} --- a dictionary that maps each 2-gram to its number of occurence in \"sents\";\n",
        "        trigram_dic: dict{ngram: counts} --- a dictionary that maps each 3-gram to its number occurence in \"sents\";\n",
        "    return:\n",
        "        s_prob: float --- probability of the \"ngram\"\n",
        "    '''\n",
        "    s_prob = None\n",
        "    ### YOUR CODE HERE\n",
        "    s_prob = 0\n",
        "    for i in range(len(ngram)):\n",
        "        sub_gram =ngram[i:]\n",
        "        prob = ngram_prob(sub_gram, num_words, unigram_dic, bigram_dic, trigram_dic)\n",
        "        s_prob += lam[3-len(sub_gram)]*prob\n",
        "    ### END OF YOUR CODE\n",
        "    return s_prob"
      ]
    },
    {
      "cell_type": "code",
      "execution_count": 123,
      "metadata": {
        "scrolled": true,
        "id": "tDNDDKAwTbcX",
        "colab": {
          "base_uri": "https://localhost:8080/"
        },
        "outputId": "495e6cec-70ed-4bf7-85ee-6b02b9dcdff1"
      },
      "outputs": [
        {
          "output_type": "stream",
          "name": "stdout",
          "text": [
            "['a', 'number', 'of']\n",
            "0.5088395909967428 0.7282499450128033\n"
          ]
        }
      ],
      "source": [
        "add_k_prob = add_k_smoothing_ngram(ngrams[5], 0.01, num_words, unigram_dict, bigram_dict, trigram_dict)\n",
        "interpolation_prob = interpolation_ngram(ngrams[5], [0.6,0.3,0.1], num_words, unigram_dict, bigram_dict, trigram_dict)\n",
        "print(ngrams[5])\n",
        "print(add_k_prob, interpolation_prob)"
      ]
    },
    {
      "cell_type": "code",
      "execution_count": 136,
      "metadata": {
        "id": "RDvQmMBmTbcX"
      },
      "outputs": [],
      "source": [
        "def perplexity(n, method, num_words, valid_sents, unigram_dic, bigram_dic, trigram_dic, k=0, lam=[0,0,1]):\n",
        "    '''\n",
        "    params:\n",
        "        n: int --- n-gram model you choose \n",
        "        method: int ---- method == 0, use add_k_smoothing; method != 0, use interpolation method.\n",
        "        num_words: int --- total number of words\n",
        "        valid_sents: list[list[str]] --- list of sentences\n",
        "        unigram_dic: dict{ngram: counts} --- a dictionary that maps each 1-gram to its number of occurences in \"sents\";\n",
        "        bigram_dic: dict{ngram: counts} --- a dictionary that maps each 2-gram to its number of occurence in \"sents\";\n",
        "        trigram_dic: dict{ngram: counts} --- a dictionary that maps each 3-gram to its number occurence in \"sents\";\n",
        "        k: float --- The parameter of add_k_smoothing\n",
        "        lam: list[float] --- a list of length 3. The parameter of interpolation. \n",
        "   return:\n",
        "        ppl: float --- perplexity of valid_sents\n",
        "    '''\n",
        "    ppl = None\n",
        "    ### YOUR CODE HERE\n",
        "    import math\n",
        "    log_probs_sents = list()\n",
        "    ngrams = None\n",
        "    for sent in valid_sents:\n",
        "        ngrams = list()\n",
        "        log_prob = 0\n",
        "        for idx in range(len(sent)-n+1):\n",
        "            ngram = tuple(sent[idx: idx+n])\n",
        "            ngrams.append(ngram)\n",
        "        for ngram in ngrams:\n",
        "            if method == 0:\n",
        "                # log_prob += math.log(add_k_smoothing_ngram(ngram, k, num_words, unigram_dic, bigram_dic, trigram_dic),2)\n",
        "                log_prob += np.log2(add_k_smoothing_ngram(ngram, k, num_words, unigram_dic, bigram_dic, trigram_dic))\n",
        "            else:\n",
        "                # log_prob += math.log(interpolation_ngram(ngram, lam, num_words, unigram_dic, bigram_dic, trigram_dic),2)\n",
        "                log_prob += np.log2(interpolation_ngram(ngram, lam, num_words, unigram_dic, bigram_dic, trigram_dic))\n",
        "                    \n",
        "        log_probs_sents.append(log_prob)\n",
        "\n",
        "    # l = math.log(sum(probs_sents),2)/num_words\n",
        "    l = sum(log_probs_sents)/num_words\n",
        "    ppl = 2**(-l)\n",
        "\n",
        "    ### END OF YOUR CODE\n",
        "    return ppl"
      ]
    },
    {
      "cell_type": "code",
      "execution_count": 125,
      "metadata": {
        "id": "7KASPZ6hTbcY",
        "colab": {
          "base_uri": "https://localhost:8080/"
        },
        "outputId": "b49bcdbb-6c74-417f-b7b7-2dcc4471ba8b"
      },
      "outputs": [
        {
          "output_type": "execute_result",
          "data": {
            "text/plain": [
              "2.016750893906363"
            ]
          },
          "metadata": {},
          "execution_count": 125
        }
      ],
      "source": [
        "perplexity(1, 0, num_words, uni_valid_sents, unigram_dict, bigram_dict, trigram_dict, k=0.1, lam=[0,0,1])"
      ]
    },
    {
      "cell_type": "markdown",
      "metadata": {
        "id": "3pE2tdAVTbcY"
      },
      "source": [
        "### Question 4 [code][written]\n",
        "1. Based on add-k smoothing method, try out different $k\\in [ 0.0001, 0.001, 0.01, 0.1, 0.5]$ and different n-gram model (unigram, bigram and trigram). Find the model and $k$ that gives the best perplexity on \"**valid_sents**\" (smaller is better).\n",
        "2. Based on interpolation method, try out different $\\lambda$ where $\\lambda_1 = \\lambda_2$ and $\\lambda_3\\in [0.1, 0.2, 0.4, 0.6, 0.8]$. Find the $\\lambda$ that gives the best perplexity on \"**valid_sents**\" (smaller is better).\n",
        "3. Based on the methods and parameters we provide, choose the method that peforms best on the validation data."
      ]
    },
    {
      "cell_type": "code",
      "execution_count": 138,
      "metadata": {
        "id": "vZCVZW3ETbcY",
        "colab": {
          "base_uri": "https://localhost:8080/"
        },
        "outputId": "80ebf4ab-f603-4a1f-be44-467529229066"
      },
      "outputs": [
        {
          "output_type": "stream",
          "name": "stdout",
          "text": [
            "Best n and k: (2, 0.01) \n",
            "Best perplexity:  1.90327816961179\n"
          ]
        }
      ],
      "source": [
        "n = [1,2,3]\n",
        "k = [0.0001, 0.001, 0.01, 0.1, 0.5]\n",
        "### YOUR CODE HERE (add-k smoothing method)\n",
        "perplexities = dict()\n",
        "for n_value in n:\n",
        "    for k_value in k:\n",
        "        p = perplexity(n_value, 0, num_words, valid_sents, unigram_dict, bigram_dict, trigram_dict, k_value, lam=None)\n",
        "        perplexities[(n_value, k_value)] = p\n",
        "        \n",
        "best_nk = min(perplexities, key=perplexities.get)\n",
        "best_perplexity_s = perplexities[best_nk]\n",
        "print('Best n and k:', best_nk, '\\nBest perplexity: ', best_perplexity_s)\n",
        "### END OF YOUR CODE"
      ]
    },
    {
      "cell_type": "code",
      "execution_count": 24,
      "metadata": {
        "id": "GibBH1OTTbcZ",
        "colab": {
          "base_uri": "https://localhost:8080/"
        },
        "outputId": "735b28e4-dd36-4247-ce3a-091f1aff543b"
      },
      "outputs": [
        {
          "output_type": "stream",
          "name": "stdout",
          "text": [
            "Best lambda 3: 0.4 \n",
            "Best perplexity:  1.8200233243533699\n"
          ]
        }
      ],
      "source": [
        "lambda_3 = [0.1, 0.2, 0.4, 0.6, 0.8]\n",
        "### YOUR CODE HERE (interpolation method)\n",
        "perplexities = dict()\n",
        "for lam3 in lambda_3:\n",
        "    lams = [(1-lam3)/2, (1-lam3)/2, lam3]\n",
        "    # for n_value in n:\n",
        "    #     p = perplexity(n_value, 1, num_words, valid_sents, unigram_dict, bigram_dict, trigram_dict, k=None, lam=lams)\n",
        "    #     perplexities[(n_value, lam)] = p\n",
        "    p = perplexity(3, 1, num_words, tri_valid_sents, unigram_dict, bigram_dict, trigram_dict, k=None, lam=lams)\n",
        "    perplexities[lam3] = p\n",
        "best_lam3 = min(perplexities, key=perplexities.get)\n",
        "best_perplexity_inter = perplexities[best_lam3]\n",
        "print('Best lambda 3:', best_lam3, '\\nBest perplexity: ', best_perplexity_inter)\n",
        "### END OF YOUR CODE"
      ]
    },
    {
      "cell_type": "markdown",
      "metadata": {
        "id": "AT1nOH40TbcZ"
      },
      "source": [
        "Based on the methods and parameters we provide, choose the method that peforms best on the validation data (**write your answer**): \n",
        "\n",
        "Interpolation method with lambda = [0.3, 0.3, 0.4]"
      ]
    },
    {
      "cell_type": "markdown",
      "metadata": {
        "id": "3o_yjh9lCdXg"
      },
      "source": [
        "### Question 5 [code]\n",
        "\n",
        "Evaluate the perplexity of the test data **test_sents** based on the best model you choose in **Question 4**."
      ]
    },
    {
      "cell_type": "code",
      "execution_count": 25,
      "metadata": {
        "id": "i7hGcXgCCdXg"
      },
      "outputs": [],
      "source": [
        "with open('50.040-NLP/data/wikitext-2/wiki.test.tokens', 'r', encoding='utf8') as f:\n",
        "    text = f.readlines()\n",
        "    test_sents = [line.lower().strip('\\n').split() for line in text]\n",
        "    test_sents = [s for s in test_sents if len(s)>0 and s[0] != '=']\n",
        "\n",
        "uni_test_sents = pad_sents(test_sents, 1)\n",
        "bi_test_sents = pad_sents(test_sents, 2)\n",
        "tri_test_sents = pad_sents(test_sents, 3)"
      ]
    },
    {
      "cell_type": "code",
      "execution_count": 26,
      "metadata": {
        "id": "rLr6y5hNTbcb",
        "colab": {
          "base_uri": "https://localhost:8080/"
        },
        "outputId": "bf973187-9e75-40fb-eafe-8ea3a3212e0f"
      },
      "outputs": [
        {
          "output_type": "stream",
          "name": "stdout",
          "text": [
            "1.9506347058753708\n"
          ]
        }
      ],
      "source": [
        "### YOUR CODE HERE\n",
        "# print(perplexity(3,0,num_words, tri_test_sents, unigram_dict, bigram_dict, trigram_dict,k=0.0001, lam=None))\n",
        "print(perplexity(3,1,num_words, tri_test_sents, unigram_dict, bigram_dict, trigram_dict,k=0.0001, lam=[0.3,0.3,0.4]))\n",
        "### END OF YOUR CODE"
      ]
    },
    {
      "cell_type": "markdown",
      "metadata": {
        "id": "ePSI8RDWCdXj"
      },
      "source": [
        "## Neural Language Model\n"
      ]
    },
    {
      "cell_type": "markdown",
      "metadata": {
        "id": "jkoTco_jCdXj"
      },
      "source": [
        "<img src=\"images/LM.png\" alt=\"drawing\" style=\"width:500px;\"/>\n",
        "\n",
        "We will create a LSTM language model as shown in figure and train it on the Wikitext-2 dataset. \n",
        "The data generators (train\\_iter, valid\\_iter, test\\_iter) have been provided. \n",
        "The word embeddings together with the parameters in the LSTM model will be learned from scratch.\n",
        "\n",
        "[Pytorch](https://pytorch.org/tutorials/) and [torchtext](https://torchtext.readthedocs.io/en/latest/index.html#) are required in this part. Do not make any changes to the provided code unless you are requested to do so. "
      ]
    },
    {
      "cell_type": "markdown",
      "metadata": {
        "id": "8SmT884XTbcc"
      },
      "source": [
        "### Question 6 [code]\n",
        "- Implement the ``__init__`` function in ``LangModel`` class. *Note: the code implementation should allow switching between unidirectional LSTM and bidirectional LSTM easily*\n",
        "- Implement the ``forward`` function in ``LangModel`` class.\n",
        "- Complete the training code in train function and the testing code in test function.\n",
        "- Train two models - **Unidirectional LSTM** and **Bidirectional LSTM**. Compute the perplexity of the test data \"test_iter\" using the trained models. The test perplexity of both trained models should be below 150."
      ]
    },
    {
      "cell_type": "markdown",
      "metadata": {
        "id": "QxN6p7hcTbcc"
      },
      "source": [
        "**Important Note: Make sure that \"torchtext <= 0.11\", as newer version might have torchtext.legacy removed**"
      ]
    },
    {
      "cell_type": "code",
      "source": [
        "!pip install torchtext==0.11.0"
      ],
      "metadata": {
        "colab": {
          "base_uri": "https://localhost:8080/"
        },
        "id": "DMjFTshzT6GU",
        "outputId": "0aba1e0d-d572-4896-84ed-d0e6e5b47ff5"
      },
      "execution_count": 27,
      "outputs": [
        {
          "output_type": "stream",
          "name": "stdout",
          "text": [
            "Looking in indexes: https://pypi.org/simple, https://us-python.pkg.dev/colab-wheels/public/simple/\n",
            "Requirement already satisfied: torchtext==0.11.0 in /usr/local/lib/python3.7/dist-packages (0.11.0)\n",
            "Requirement already satisfied: tqdm in /usr/local/lib/python3.7/dist-packages (from torchtext==0.11.0) (4.64.0)\n",
            "Requirement already satisfied: torch==1.10.0 in /usr/local/lib/python3.7/dist-packages (from torchtext==0.11.0) (1.10.0)\n",
            "Requirement already satisfied: numpy in /usr/local/lib/python3.7/dist-packages (from torchtext==0.11.0) (1.21.6)\n",
            "Requirement already satisfied: requests in /usr/local/lib/python3.7/dist-packages (from torchtext==0.11.0) (2.23.0)\n",
            "Requirement already satisfied: typing-extensions in /usr/local/lib/python3.7/dist-packages (from torch==1.10.0->torchtext==0.11.0) (4.2.0)\n",
            "Requirement already satisfied: chardet<4,>=3.0.2 in /usr/local/lib/python3.7/dist-packages (from requests->torchtext==0.11.0) (3.0.4)\n",
            "Requirement already satisfied: certifi>=2017.4.17 in /usr/local/lib/python3.7/dist-packages (from requests->torchtext==0.11.0) (2022.5.18.1)\n",
            "Requirement already satisfied: idna<3,>=2.5 in /usr/local/lib/python3.7/dist-packages (from requests->torchtext==0.11.0) (2.10)\n",
            "Requirement already satisfied: urllib3!=1.25.0,!=1.25.1,<1.26,>=1.21.1 in /usr/local/lib/python3.7/dist-packages (from requests->torchtext==0.11.0) (1.24.3)\n"
          ]
        }
      ]
    },
    {
      "cell_type": "code",
      "execution_count": 28,
      "metadata": {
        "colab": {
          "base_uri": "https://localhost:8080/"
        },
        "id": "tF2GCRdFCdXk",
        "outputId": "edc7fa0c-88cb-40f3-f2b4-0ae0d4835628"
      },
      "outputs": [
        {
          "output_type": "stream",
          "name": "stdout",
          "text": [
            "3.7\n"
          ]
        },
        {
          "output_type": "stream",
          "name": "stderr",
          "text": [
            "[nltk_data] Downloading package punkt to /root/nltk_data...\n",
            "[nltk_data]   Package punkt is already up-to-date!\n"
          ]
        }
      ],
      "source": [
        "import torchtext\n",
        "import torch\n",
        "import torch.nn.functional as F\n",
        "from torchtext.legacy.datasets import WikiText2\n",
        "from torch import nn, optim\n",
        "from torchtext.legacy import data\n",
        "from nltk import word_tokenize\n",
        "import nltk\n",
        "nltk.download('punkt')\n",
        "torch.manual_seed(222)\n",
        "print(nltk.__version__)"
      ]
    },
    {
      "cell_type": "code",
      "execution_count": 29,
      "metadata": {
        "id": "lt6JBdSnCdXn"
      },
      "outputs": [],
      "source": [
        "def tokenizer(text):\n",
        "    '''Tokenize a string to words'''\n",
        "    return word_tokenize(text)\n",
        "\n",
        "START = '<START>'\n",
        "STOP = '<STOP>'\n",
        "#Load and split data into three parts\n",
        "TEXT = data.Field(lower=True, tokenize=tokenizer, init_token=START, eos_token=STOP)\n",
        "train, valid, test = WikiText2.splits(TEXT) "
      ]
    },
    {
      "cell_type": "code",
      "execution_count": 30,
      "metadata": {
        "colab": {
          "base_uri": "https://localhost:8080/"
        },
        "id": "KHwu4VMVCdXq",
        "outputId": "ea4108b6-30ac-4188-c950-d299bb30a933"
      },
      "outputs": [
        {
          "output_type": "stream",
          "name": "stdout",
          "text": [
            "Vocabulary size: 28907\n"
          ]
        }
      ],
      "source": [
        "#Build a vocabulary from the train dataset\n",
        "TEXT.build_vocab(train)\n",
        "print('Vocabulary size:', len(TEXT.vocab))"
      ]
    },
    {
      "cell_type": "code",
      "execution_count": 31,
      "metadata": {
        "id": "ua9e-OBMCdXs"
      },
      "outputs": [],
      "source": [
        "BATCH_SIZE = 64\n",
        "# the length of a text feeding to the RNN layer\n",
        "BPTT_LEN = 32           \n",
        "# train, validation, test data\n",
        "train_iter, valid_iter, test_iter = data.BPTTIterator.splits((train, valid, test),\n",
        "                                                                batch_size=BATCH_SIZE,\n",
        "                                                                bptt_len=BPTT_LEN,\n",
        "                                                                repeat=False)"
      ]
    },
    {
      "cell_type": "code",
      "execution_count": 32,
      "metadata": {
        "colab": {
          "base_uri": "https://localhost:8080/"
        },
        "id": "6_Cd8shXCdXy",
        "scrolled": true,
        "outputId": "f73ab129-183c-43fd-ac0c-4d544122527f"
      },
      "outputs": [
        {
          "output_type": "stream",
          "name": "stdout",
          "text": [
            "Size of text tensor torch.Size([32, 64])\n",
            "Size of target tensor torch.Size([32, 64])\n"
          ]
        }
      ],
      "source": [
        "#Generate a batch of train data\n",
        "batch = next(iter(train_iter))\n",
        "text, target = batch.text, batch.target\n",
        "print('Size of text tensor',text.size())\n",
        "print('Size of target tensor',target.size())"
      ]
    },
    {
      "cell_type": "code",
      "execution_count": 33,
      "metadata": {
        "id": "Mi4XtLOaTbce"
      },
      "outputs": [],
      "source": [
        "class LangModel(nn.Module):\n",
        "    def __init__(self, lang_config):\n",
        "        super(LangModel, self).__init__()\n",
        "        self.vocab_size = lang_config['vocab_size']\n",
        "        self.emb_size = lang_config['emb_size']\n",
        "        self.hidden_size = lang_config['hidden_size']\n",
        "        self.num_layer = lang_config['num_layer']\n",
        "        self.bidirectional = lang_config['bidirectional']\n",
        "        \n",
        "        self.embedding = None\n",
        "        self.lstm = None\n",
        "        self.linear = None\n",
        "        \n",
        "        ### TODO: \n",
        "        ###    1. Initialize 'self.embedding' with nn.Embedding function and 2 variables we have initialized for you\n",
        "        ###    2. Initialize 'self.lstm' with nn.LSTM function and 4 variables we have initialized for you \n",
        "        ###    3. Initialize 'self.linear' with nn.Linear function and 2 variables we have initialized for you\n",
        "        ### Reference:\n",
        "        ###        https://pytorch.org/docs/stable/nn.html\n",
        "        \n",
        "        ### YOUR CODE HERE (3 lines)\n",
        "        self.embedding = nn.Embedding(self.vocab_size, self.emb_size)\n",
        "        self.lstm = nn.LSTM(self.emb_size, self.hidden_size, self.num_layer,bidirectional=self.bidirectional)\n",
        "\n",
        "        self.linear = nn.Linear(in_features= 2 * self.hidden_size if self.bidirectional else self.hidden_size, out_features= self.vocab_size)\n",
        "      \n",
        "        ### END OF YOUR CODE\n",
        "        \n",
        "    def forward(self, batch_sents, hidden=None):\n",
        "        '''\n",
        "        params:\n",
        "            batch_sents: torch.LongTensor of shape (sequence_len, batch_size)\n",
        "        return:\n",
        "            normalized_score: torch.FloatTensor of shape (sequence_len, batch_size, vocab_size)\n",
        "        '''\n",
        "        normalized_score = None\n",
        "        hidden = hidden\n",
        "        ### TODO:\n",
        "        ###      1. Feed the batch_sents to self.embedding  \n",
        "        ###      2. Feed the embeddings to self.lstm. Remember to pass \"hidden\" into self.lstm, even if it is None. But we will \n",
        "        ###         use \"hidden\" when implementing greedy search.\n",
        "        ###      3. Apply linear transformation to the output of self.lstm\n",
        "        ###      4. Apply 'F.log_softmax' to the output of linear transformation\n",
        "        ###\n",
        "        ### YOUR CODE HERE (4 lines)\n",
        "        embeddings = self.embedding(batch_sents)\n",
        "        lstm_out, hidden = self.lstm(embeddings, hidden)\n",
        "        # print(lstm_out.size)\n",
        "        linear_out = self.linear(lstm_out)\n",
        "        normalized_score = F.log_softmax(linear_out, dim=-1)\n",
        "        ### END OF YOUR CODE\n",
        "        return normalized_score, hidden"
      ]
    },
    {
      "cell_type": "code",
      "execution_count": 34,
      "metadata": {
        "id": "tG9KLGhuTbcf"
      },
      "outputs": [],
      "source": [
        "def train(model, train_iter, valid_iter, vocab_size, criterion, optimizer, num_epochs):\n",
        "    for n in range(num_epochs):\n",
        "        train_loss = 0\n",
        "        target_num = 0\n",
        "        model.train()\n",
        "        for batch in train_iter:\n",
        "            \n",
        "            text, targets = batch.text.to(device), batch.target.to(device)\n",
        "            loss = None\n",
        "            \n",
        "            ### we don't consider \"hidden\" here. So according to the default setting, \"hidden\" will be None\n",
        "            ### YOU CODE HERE (~5 lines)\n",
        "            model.zero_grad()\n",
        "\n",
        "            prediction, _  = model(text)\n",
        "            loss = criterion(prediction.view(-1, vocab_size),  targets.view(-1))\n",
        "            loss.backward()\n",
        "            optimizer.step()\n",
        "            ### END OF YOUR CODE\n",
        "            ##########################################\n",
        "            train_loss += loss.item() * targets.size(0) * targets.size(1)\n",
        "            target_num += targets.size(0) * targets.size(1)\n",
        "\n",
        "        train_loss /= target_num\n",
        "\n",
        "        # monitor the loss of all the predictions\n",
        "        val_loss = 0\n",
        "        target_num = 0\n",
        "        model.eval()\n",
        "        for batch in valid_iter:\n",
        "            text, targets = batch.text.to(device), batch.target.to(device)\n",
        "            \n",
        "            prediction,_ = model(text)\n",
        "            loss = criterion(prediction.view(-1, vocab_size), targets.view(-1))\n",
        "            \n",
        "            val_loss += loss.item() * targets.size(0) * targets.size(1)\n",
        "            target_num += targets.size(0) * targets.size(1)\n",
        "        val_loss /= target_num\n",
        "\n",
        "        print('Epoch: {}, Training Loss: {:.4f}, Validation Loss: {:.4f}'.format(n+1, train_loss, val_loss))   "
      ]
    },
    {
      "cell_type": "code",
      "execution_count": 35,
      "metadata": {
        "id": "qfxn95T6Tbcf"
      },
      "outputs": [],
      "source": [
        "import math\n",
        "import numpy as np\n",
        "def test(model, vocab_size, criterion, test_iter):\n",
        "    '''\n",
        "    params: \n",
        "        model: LSTM model\n",
        "        test_iter: test datatest loss\n",
        "    return:\n",
        "        ppl: perplexity \n",
        "    '''\n",
        "    ppl = None\n",
        "    test_loss = 0\n",
        "    target_num = 0\n",
        "    with torch.no_grad():\n",
        "        for batch in test_iter:\n",
        "            text, targets = batch.text.to(device), batch.target.to(device)\n",
        "\n",
        "            prediction,_ = model(text)\n",
        "            loss = criterion(prediction.view(-1, vocab_size), targets.view(-1))\n",
        "\n",
        "            test_loss += loss.item() * targets.size(0) * targets.size(1)\n",
        "            target_num += targets.size(0) * targets.size(1)\n",
        "\n",
        "        test_loss /= target_num\n",
        "        \n",
        "        ### Compute perplexity according to \"test_loss\"\n",
        "        ### Hint: Consider how the loss is computed.\n",
        "        ### YOUR CODE HERE(1 line)\n",
        "        ppl = np.exp(test_loss) \n",
        "        ### END OF YOUR CODE\n",
        "        return ppl"
      ]
    },
    {
      "cell_type": "code",
      "execution_count": 38,
      "metadata": {
        "colab": {
          "base_uri": "https://localhost:8080/"
        },
        "id": "4meDPg2oTbcg",
        "outputId": "ef96b141-48d9-4af1-a5f6-8cf61f9d2a85"
      },
      "outputs": [
        {
          "output_type": "stream",
          "name": "stdout",
          "text": [
            "cuda\n"
          ]
        }
      ],
      "source": [
        "num_epochs=10\n",
        "device = torch.device(\"cuda\" if torch.cuda.is_available() else \"cpu\")\n",
        "vocab_size = len(TEXT.vocab)\n",
        "print(device)\n",
        "criterion = nn.NLLLoss(reduction='mean')\n",
        "optimizer = optim.Adam(LM.parameters(), lr=1e-3, betas=(0.7, 0.99))"
      ]
    },
    {
      "cell_type": "code",
      "execution_count": 37,
      "metadata": {
        "id": "PJGm-qHETbch"
      },
      "outputs": [],
      "source": [
        "config = {\n",
        "    'vocab_size':vocab_size,\n",
        "    'emb_size':128,\n",
        "    'hidden_size':128,\n",
        "    'num_layer':1,\n",
        "    'bidirectional': False\n",
        "}\n",
        "\n",
        "LM = LangModel(config)\n",
        "LM = LM.to(device)"
      ]
    },
    {
      "cell_type": "code",
      "execution_count": 39,
      "metadata": {
        "id": "D4S_id4kTbch",
        "colab": {
          "base_uri": "https://localhost:8080/"
        },
        "outputId": "ddf39fc0-2a36-4d07-a63b-aafdae9f4e6f"
      },
      "outputs": [
        {
          "output_type": "stream",
          "name": "stdout",
          "text": [
            "Epoch: 1, Training Loss: 6.0577, Validation Loss: 5.1698\n",
            "Epoch: 2, Training Loss: 5.3880, Validation Loss: 4.9414\n",
            "Epoch: 3, Training Loss: 5.1200, Validation Loss: 4.8541\n",
            "Epoch: 4, Training Loss: 4.9522, Validation Loss: 4.8108\n",
            "Epoch: 5, Training Loss: 4.8313, Validation Loss: 4.7831\n",
            "Epoch: 6, Training Loss: 4.7345, Validation Loss: 4.7646\n",
            "Epoch: 7, Training Loss: 4.6525, Validation Loss: 4.7536\n",
            "Epoch: 8, Training Loss: 4.5823, Validation Loss: 4.7464\n",
            "Epoch: 9, Training Loss: 4.5210, Validation Loss: 4.7452\n",
            "Epoch: 10, Training Loss: 4.4664, Validation Loss: 4.7462\n"
          ]
        }
      ],
      "source": [
        "train(LM, train_iter, valid_iter, vocab_size, criterion, optimizer, num_epochs)"
      ]
    },
    {
      "cell_type": "code",
      "execution_count": 42,
      "metadata": {
        "id": "Ncs_9HdrTbch",
        "colab": {
          "base_uri": "https://localhost:8080/"
        },
        "outputId": "8157188e-b86d-40cc-9da9-01c2a9f22b79"
      },
      "outputs": [
        {
          "output_type": "execute_result",
          "data": {
            "text/plain": [
              "99.30294279118066"
            ]
          },
          "metadata": {},
          "execution_count": 42
        }
      ],
      "source": [
        "test(LM, vocab_size, criterion, test_iter)"
      ]
    },
    {
      "cell_type": "code",
      "execution_count": 43,
      "metadata": {
        "id": "hhriwHW1Tbci"
      },
      "outputs": [],
      "source": [
        "config = {\n",
        "    'vocab_size':vocab_size,\n",
        "    'emb_size':128,\n",
        "    'hidden_size':128,\n",
        "    'num_layer':1,\n",
        "    'bidirectional': True\n",
        "}\n",
        "\n",
        "biLSTM = LangModel(config)\n",
        "biLSTM = biLSTM.to(device)\n",
        "optimizer = optim.Adam(biLSTM.parameters(), lr=1e-3, betas=(0.7, 0.99))"
      ]
    },
    {
      "cell_type": "code",
      "execution_count": 44,
      "metadata": {
        "id": "txyQ-tcbTbci",
        "colab": {
          "base_uri": "https://localhost:8080/"
        },
        "outputId": "8653fb44-53c3-438a-b596-ad966e2dea58"
      },
      "outputs": [
        {
          "output_type": "stream",
          "name": "stdout",
          "text": [
            "Epoch: 1, Training Loss: 3.1737, Validation Loss: 1.3003\n",
            "Epoch: 2, Training Loss: 0.9979, Validation Loss: 0.6368\n",
            "Epoch: 3, Training Loss: 0.5144, Validation Loss: 0.4418\n",
            "Epoch: 4, Training Loss: 0.3228, Validation Loss: 0.3504\n",
            "Epoch: 5, Training Loss: 0.2295, Validation Loss: 0.3047\n",
            "Epoch: 6, Training Loss: 0.1833, Validation Loss: 0.2809\n",
            "Epoch: 7, Training Loss: 0.1582, Validation Loss: 0.2686\n",
            "Epoch: 8, Training Loss: 0.1423, Validation Loss: 0.2609\n",
            "Epoch: 9, Training Loss: 0.1308, Validation Loss: 0.2565\n",
            "Epoch: 10, Training Loss: 0.1217, Validation Loss: 0.2535\n"
          ]
        }
      ],
      "source": [
        "train(biLSTM, train_iter, valid_iter, vocab_size, criterion, optimizer, num_epochs)"
      ]
    },
    {
      "cell_type": "code",
      "execution_count": 46,
      "metadata": {
        "id": "84JsGagETbcj",
        "colab": {
          "base_uri": "https://localhost:8080/"
        },
        "outputId": "52cdfeb3-ce52-436f-81ad-43261c340bba"
      },
      "outputs": [
        {
          "output_type": "execute_result",
          "data": {
            "text/plain": [
              "1.2745250712413583"
            ]
          },
          "metadata": {},
          "execution_count": 46
        }
      ],
      "source": [
        "test(biLSTM, vocab_size, criterion, test_iter)"
      ]
    },
    {
      "cell_type": "markdown",
      "metadata": {
        "id": "RUOnNNk1Tbcj"
      },
      "source": [
        "### Question 7 [code][written]\n",
        "<img src=\"images/greedy.png\" alt=\"drawing\" style=\"width:500px;\"/>\n",
        "\n",
        "When we use trained language model to generate a sentence given a start token, we can choose ``greedy search``.\n",
        "\n",
        "As shown above, ``greedy search`` algorithm will pick the token which has the highest probability and feed it to the language model as input in the next time step. The model will generate ``max_len`` number of tokens at most.\n",
        "\n",
        "- Implement ``word_greedy_search``"
      ]
    },
    {
      "cell_type": "code",
      "execution_count": 63,
      "metadata": {
        "id": "yDVVKGlVTbcj"
      },
      "outputs": [],
      "source": [
        "def word_greedy_search(model, start_token, max_len):\n",
        "    '''\n",
        "    param:\n",
        "        model: nn.Module --- language model\n",
        "        start_token: str --- e.g. 'he'\n",
        "        max_len: int --- max number of tokens generated\n",
        "    return:\n",
        "        strings: list[str] --- list of tokens, e.g., ['he', 'was', 'a', 'member', 'of',...]\n",
        "    '''\n",
        "    model.eval()\n",
        "    ID = TEXT.vocab.stoi[start_token]\n",
        "    strings = [start_token]\n",
        "    hidden = None\n",
        "    \n",
        "    ### You may find TEXT.vocab.itos useful.\n",
        "    ### YOUR CODE HERE\n",
        "    end = TEXT.vocab.stoi[\"<eos>\"]\n",
        "\n",
        "    for _ in range(1,max_len):\n",
        "      text = torch.LongTensor([[ID]]).to(device)\n",
        "      output, hidden = model(text, hidden) \n",
        "      ID =  torch.argmax(output)\n",
        "      nextword = TEXT.vocab.itos[ID.item()]\n",
        "      strings.append(nextword)\n",
        "      # print(strings)\n",
        "      if(ID.item()== end):\n",
        "        break\n",
        "    ### END OF YOUR CODE \n",
        "    print(strings)    "
      ]
    },
    {
      "cell_type": "code",
      "execution_count": 64,
      "metadata": {
        "id": "BbJmyZF4Tbcj",
        "colab": {
          "base_uri": "https://localhost:8080/"
        },
        "outputId": "499f80fc-551a-4cb5-e9c3-267fc019f038"
      },
      "outputs": [
        {
          "output_type": "stream",
          "name": "stdout",
          "text": [
            "['he', 'was', 'a', 'member', 'of', 'the', '<', 'unk', '>', ',', 'and', 'the', '<', 'unk', '>', '<', 'unk', '>', ',', 'the', '<', 'unk', '>', '<', 'unk', '>', ',', '<', 'unk', '>', ',', '<', 'unk', '>', ',', '<', 'unk', '>', ',', '<', 'unk', '>', ',', '<', 'unk', '>', ',', '<', 'unk', '>', ',', '<', 'unk', '>', ',', '<', 'unk', '>', ',', '<', 'unk', '>', ',', '<']\n"
          ]
        }
      ],
      "source": [
        "word_greedy_search(LM, 'he', 64)"
      ]
    },
    {
      "cell_type": "markdown",
      "metadata": {
        "id": "hSzu9s60Tbcj"
      },
      "source": [
        "#### Review Question: Based on your understanding, can we use the **Bidirectional LSTM** for this language generation (decoding) task? Explain why?"
      ]
    },
    {
      "cell_type": "markdown",
      "metadata": {
        "id": "pPj4wzKKTbck"
      },
      "source": [
        "**write your explanation:**\n",
        "\n",
        "No, we cannot use the BiLSTM here for decoding. Because BiLSTM contains backward LSTM and need to make use of the another end of the sentence, but we only have start char here, which does not fulfill the condition."
      ]
    },
    {
      "cell_type": "markdown",
      "metadata": {
        "id": "dga7YxISTbck"
      },
      "source": [
        "### Question 8 [code][written]\n",
        "- We will use the hidden vectors (the working memory) of LSTM as the contextual embeddings. Implement ``contextual_embedding`` function.\n",
        "- Use the ``contextual_embedding`` function to get the contextual embeddings of the word \"sink\" in four sequences \"wood does not sink in water\", \"a small water leak will sink the ship\", \"there are plates in the kitchen sink\" and \"the kitchen sink was full of dirty dishes\". Then calculate the cosine similarity of \"sink\" from each pair of sequences. Assume that $\\boldsymbol{w}_1$ and $\\boldsymbol{w}_2$ are embeddings of \"sink\" in sequences \"wood does not sink in water\" and \"a small water leak will sink the ship\" respectively. The cosine similarity can be calculated as \n",
        "\n",
        "\\begin{align}\n",
        "similarity = cos(\\theta) = \\frac{\\boldsymbol{w}^{\\rm T}_1\\boldsymbol{w}_2}{||\\boldsymbol{w}_1||_2||\\boldsymbol{w}_2||_2}\n",
        "\\end{align}\n",
        "Give the explanation of the results. "
      ]
    },
    {
      "cell_type": "code",
      "execution_count": 159,
      "metadata": {
        "id": "6GPJowU4Tbck"
      },
      "outputs": [],
      "source": [
        "def contextual_embedding(model, sentence):\n",
        "    '''\n",
        "    params: \n",
        "        model: nn.Module --- language model\n",
        "        sentence -- list[str]: list of tokens, e.g., ['I', 'am',...]\n",
        "    return:\n",
        "        embeddings -- numpy array of shape (length of sentence, word embedding size)\n",
        "    '''\n",
        "    model.eval()\n",
        "    hidden = None\n",
        "    \n",
        "    # ### YOUR CODE HERE \n",
        "    embeddings = []\n",
        "    ID = [TEXT.vocab.stoi[word] for word in sentence]\n",
        "    input = torch.LongTensor([ID]).to(device)\n",
        "    for word in ID:\n",
        "      word = torch.LongTensor([[word]]).to(device)\n",
        "      outputs, hidden = model(word, hidden)\n",
        "      embeddings.append(hidden)\n",
        "    # ### END OF YOUR CODE\n",
        "    return embeddings"
      ]
    },
    {
      "cell_type": "code",
      "execution_count": 160,
      "metadata": {
        "id": "zkeDHS7OTbcl",
        "colab": {
          "base_uri": "https://localhost:8080/"
        },
        "outputId": "f7f69fa1-565b-4d69-8266-f3dfb2fb7160"
      },
      "outputs": [
        {
          "output_type": "stream",
          "name": "stdout",
          "text": [
            "similarity in sentence 1 and 2: 0.7896574139595032 \n",
            "similarity in sentence 1 and 3: 0.5950040817260742 \n",
            "similarity in sentence 1 and 4: 0.5736166834831238 \n",
            "similarity in sentence 2 and 3: 0.6296572089195251 \n",
            "similarity in sentence 2 and 4: 0.5673898458480835 \n",
            "similarity in sentence 3 and 4: 0.8566718697547913 \n"
          ]
        }
      ],
      "source": [
        "sink_seq1 = \"wood does not sink in water\"\n",
        "sink_seq2 = \"a small water leak will sink the ship\"\n",
        "sink_seq3 = \"there are plates in the kitchen sink\"\n",
        "sink_seq4 = \"the kitchen sink was full of dirty dishes\"\n",
        "\n",
        "### YOUR CODE HERE \n",
        "sink_emb1 = contextual_embedding(LM, sink_seq1.split(' '))[3][0][0][0]\n",
        "sink_emb2 = contextual_embedding(LM, sink_seq2.split(' '))[5][0][0][0]\n",
        "sink_emb3 = contextual_embedding(LM, sink_seq3.split(' '))[6][0][0][0]\n",
        "sink_emb4 = contextual_embedding(LM, sink_seq4.split(' '))[2][0][0][0]\n",
        "\n",
        "cos = torch.nn.CosineSimilarity(dim=0)\n",
        "output12 = cos(sink_emb1, sink_emb2)\n",
        "output13 = cos(sink_emb1, sink_emb3)\n",
        "output14 = cos(sink_emb1, sink_emb4)\n",
        "output23 = cos(sink_emb2, sink_emb3)\n",
        "output24 = cos(sink_emb2, sink_emb4)\n",
        "output34 = cos(sink_emb3, sink_emb4)\n",
        "\n",
        "print(f\"similarity in sentence 1 and 2: {output12} \")\n",
        "print(f\"similarity in sentence 1 and 3: {output13} \")\n",
        "print(f\"similarity in sentence 1 and 4: {output14} \")\n",
        "print(f\"similarity in sentence 2 and 3: {output23} \")\n",
        "print(f\"similarity in sentence 2 and 4: {output24} \")\n",
        "print(f\"similarity in sentence 3 and 4: {output34} \")\n",
        "\n",
        "### END OF YOUR CODE\n"
      ]
    },
    {
      "cell_type": "markdown",
      "metadata": {
        "id": "kr9UgZ6yTbcl"
      },
      "source": [
        "***write your explanation:***\n",
        "\n",
        "Words \"sink\" in sentence 1 and sentence 2 are both verb, while \"sink\" in sentence 3 and sentencen 4 are both noun. Therefore, the similarities from the pair of sentence 1 and 2, and the pair of sentence 3 and 4 should be larger than other pairs."
      ]
    },
    {
      "cell_type": "markdown",
      "metadata": {
        "id": "MFIbiohrTbcm"
      },
      "source": [
        "#### Review Question: Based on your understanding, can we use the **Bidirectional LSTM** for this contextual embedding task? Explain why?"
      ]
    },
    {
      "cell_type": "markdown",
      "metadata": {
        "id": "57YR3SGnTbcm"
      },
      "source": [
        "**write your explanation:**\n",
        "\n",
        "Yes, we can use BiLSTM here as the whole sentences are provided so that BiLSTM can contextualize in both forward and backward directions."
      ]
    },
    {
      "cell_type": "markdown",
      "metadata": {
        "id": "cernoBq6CdX9"
      },
      "source": [
        "### Requirements:\n",
        "- This is an individual report.\n",
        "- Complete the code using Python.\n",
        "- List students with whom you have discussed if there are any.\n",
        "- Follow the honor code strictly."
      ]
    },
    {
      "cell_type": "markdown",
      "metadata": {
        "id": "bDOUuC7-CdX-"
      },
      "source": [
        "### Free GPU Resources\n",
        "We suggest that you run neural language models on machines with GPU(s). Google provides the free online platform [Colaboratory](https://colab.research.google.com/notebooks/welcome.ipynb), a research tool for machine learning education and research. It’s a Jupyter notebook environment that requires no setup to use as common packages have been  pre-installed. Google users can have access to a Tesla T4 GPU (approximately 15G memory). Note that when you connect to a GPU-based VM runtime, you are given a maximum of 12 hours at a time on the VM.\n",
        "\n",
        "It is convenient to upload local Jupyter Notebook files and data to Colab, please refer to the [tutorial](https://colab.research.google.com/notebooks/io.ipynb). \n",
        "\n",
        "In addition, Microsoft also provides the online platform [Azure Notebooks](https://notebooks.azure.com/help/introduction) for research of data science and machine learning, there are free trials for new users with credits."
      ]
    }
  ],
  "metadata": {
    "colab": {
      "name": "new_mini_project.ipynb",
      "provenance": [],
      "collapsed_sections": [
        "cernoBq6CdX9",
        "bDOUuC7-CdX-"
      ],
      "toc_visible": true,
      "include_colab_link": true
    },
    "interpreter": {
      "hash": "916dbcbb3f70747c44a77c7bcd40155683ae19c65e1c03b4aa3499c5328201f1"
    },
    "kernelspec": {
      "display_name": "Python 3.8.10 64-bit",
      "language": "python",
      "name": "python3"
    },
    "language_info": {
      "codemirror_mode": {
        "name": "ipython",
        "version": 3
      },
      "file_extension": ".py",
      "mimetype": "text/x-python",
      "name": "python",
      "nbconvert_exporter": "python",
      "pygments_lexer": "ipython3",
      "version": "3.8.10"
    },
    "gpuClass": "standard",
    "accelerator": "GPU"
  },
  "nbformat": 4,
  "nbformat_minor": 0
}